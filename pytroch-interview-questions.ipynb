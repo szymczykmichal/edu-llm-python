{
 "cells": [
  {
   "cell_type": "markdown",
   "id": "38d588cb-19ea-464e-b02b-ceaf7c4e3b9e",
   "metadata": {},
   "source": [
    "## URL\n",
    "\n",
    "https://www.mlstack.cafe/blog/pytorch-interview-questions"
   ]
  },
  {
   "cell_type": "code",
   "execution_count": 2,
   "id": "6d36a618-2987-44c3-ab04-3993c6b36112",
   "metadata": {},
   "outputs": [],
   "source": [
    "import torch"
   ]
  },
  {
   "cell_type": "markdown",
   "id": "7d9ccfd6-0f2c-4bba-9b26-c5614fc41d7c",
   "metadata": {},
   "source": [
    "### How to obtain derivative"
   ]
  },
  {
   "cell_type": "code",
   "execution_count": 3,
   "id": "f332ff88-0329-4b59-a7e9-5d2c455f9589",
   "metadata": {},
   "outputs": [],
   "source": [
    "x = 1\n",
    "y = x*4 + 3\n",
    "x = torch.autograd.Variable(torch.Tensor([1.0]), requires_grad=True)"
   ]
  },
  {
   "cell_type": "code",
   "execution_count": 7,
   "id": "987fc9f2-2ff6-4364-a349-f7abdace443f",
   "metadata": {},
   "outputs": [
    {
     "data": {
      "text/plain": [
       "\u001b[0;31mInit signature:\u001b[0m \u001b[0mtorch\u001b[0m\u001b[0;34m.\u001b[0m\u001b[0mautograd\u001b[0m\u001b[0;34m.\u001b[0m\u001b[0mVariable\u001b[0m\u001b[0;34m(\u001b[0m\u001b[0mself\u001b[0m\u001b[0;34m,\u001b[0m \u001b[0;34m/\u001b[0m\u001b[0;34m,\u001b[0m \u001b[0;34m*\u001b[0m\u001b[0margs\u001b[0m\u001b[0;34m,\u001b[0m \u001b[0;34m**\u001b[0m\u001b[0mkwargs\u001b[0m\u001b[0;34m)\u001b[0m\u001b[0;34m\u001b[0m\u001b[0;34m\u001b[0m\u001b[0m\n",
       "\u001b[0;31mDocstring:\u001b[0m      <no docstring>\n",
       "\u001b[0;31mSource:\u001b[0m        \n",
       "\u001b[0;32mclass\u001b[0m \u001b[0mVariable\u001b[0m\u001b[0;34m(\u001b[0m\u001b[0mtorch\u001b[0m\u001b[0;34m.\u001b[0m\u001b[0m_C\u001b[0m\u001b[0;34m.\u001b[0m\u001b[0m_LegacyVariableBase\u001b[0m\u001b[0;34m,\u001b[0m \u001b[0mmetaclass\u001b[0m\u001b[0;34m=\u001b[0m\u001b[0mVariableMeta\u001b[0m\u001b[0;34m)\u001b[0m\u001b[0;34m:\u001b[0m  \u001b[0;31m# type: ignore[misc]\u001b[0m\u001b[0;34m\u001b[0m\n",
       "\u001b[0;34m\u001b[0m    \u001b[0m_execution_engine\u001b[0m \u001b[0;34m=\u001b[0m \u001b[0mImperativeEngine\u001b[0m\u001b[0;34m(\u001b[0m\u001b[0;34m)\u001b[0m\u001b[0;34m\u001b[0m\u001b[0;34m\u001b[0m\u001b[0m\n",
       "\u001b[0;31mFile:\u001b[0m           ~/edu-llm-python/.venv/lib/python3.10/site-packages/torch/autograd/variable.py\n",
       "\u001b[0;31mType:\u001b[0m           VariableMeta\n",
       "\u001b[0;31mSubclasses:\u001b[0m     "
      ]
     },
     "metadata": {},
     "output_type": "display_data"
    }
   ],
   "source": [
    "torch.autograd.Variable"
   ]
  },
  {
   "cell_type": "code",
   "execution_count": null,
   "id": "e1ce81ec-a7c6-4b6a-8fc2-50626f713833",
   "metadata": {},
   "outputs": [],
   "source": []
  },
  {
   "cell_type": "code",
   "execution_count": null,
   "id": "258b22ae-5a19-4978-8958-8662cf2b28d7",
   "metadata": {},
   "outputs": [],
   "source": []
  },
  {
   "cell_type": "code",
   "execution_count": null,
   "id": "d0c40a44-1051-47e6-bd42-cee89abe678d",
   "metadata": {},
   "outputs": [],
   "source": []
  }
 ],
 "metadata": {
  "kernelspec": {
   "display_name": "Python 3 (ipykernel)",
   "language": "python",
   "name": "python3"
  },
  "language_info": {
   "codemirror_mode": {
    "name": "ipython",
    "version": 3
   },
   "file_extension": ".py",
   "mimetype": "text/x-python",
   "name": "python",
   "nbconvert_exporter": "python",
   "pygments_lexer": "ipython3",
   "version": "3.10.16"
  }
 },
 "nbformat": 4,
 "nbformat_minor": 5
}
