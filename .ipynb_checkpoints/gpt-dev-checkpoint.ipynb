{
 "cells": [
  {
   "cell_type": "code",
   "execution_count": 2,
   "id": "46dc9583-5539-4505-87cc-c7abb788c571",
   "metadata": {},
   "outputs": [],
   "source": [
    "# !wget https://raw.githubusercontent.com/karpathy/char-rnn/master/data/tinyshakespeare/input.txt"
   ]
  },
  {
   "cell_type": "code",
   "execution_count": 3,
   "id": "cb6d1ab3-ee10-405f-9a79-09753b5dd93d",
   "metadata": {},
   "outputs": [],
   "source": [
    "import torch"
   ]
  },
  {
   "cell_type": "code",
   "execution_count": 4,
   "id": "188e73f2-b9b0-434b-8c33-59ef72855ae4",
   "metadata": {},
   "outputs": [],
   "source": [
    "with open(\"input.txt\", \"r\", encoding=\"utf-8\") as f:\n",
    "    text = f.read()"
   ]
  },
  {
   "cell_type": "code",
   "execution_count": 5,
   "id": "d6430132-acf1-4dd6-af5b-2e3a43c5e1d4",
   "metadata": {},
   "outputs": [
    {
     "name": "stdout",
     "output_type": "stream",
     "text": [
      "\n",
      " !$&',-.3:;?ABCDEFGHIJKLMNOPQRSTUVWXYZabcdefghijklmnopqrstuvwxyz\n"
     ]
    }
   ],
   "source": [
    "chars = sorted(set(text))\n",
    "vocab_size = len(chars)\n",
    "\n",
    "print(\"\".join(chars))"
   ]
  },
  {
   "cell_type": "code",
   "execution_count": 6,
   "id": "934d514f-5610-4ccc-933d-1786600f8f6a",
   "metadata": {},
   "outputs": [],
   "source": [
    "stoi = {ch:idx for idx, ch in enumerate(chars)}\n",
    "itos = {idx:ch for ch,idx in stoi.items()}\n",
    "\n",
    "def encode(text):\n",
    "    return [stoi[ch] for ch in text]\n",
    "\n",
    "def decode(nums):\n",
    "    return \"\".join([itos[idx] for idx in nums])"
   ]
  },
  {
   "cell_type": "code",
   "execution_count": 7,
   "id": "5dc40768-566a-4fc6-8bfc-7e1890d714a0",
   "metadata": {},
   "outputs": [
    {
     "data": {
      "text/plain": [
       "'hii, there'"
      ]
     },
     "execution_count": 7,
     "metadata": {},
     "output_type": "execute_result"
    }
   ],
   "source": [
    "encode(\"hii, there\")\n",
    "decode(encode(\"hii, there\"))"
   ]
  },
  {
   "cell_type": "code",
   "execution_count": 8,
   "id": "961481d0-5e01-4f2a-ab23-9ae951841dd2",
   "metadata": {},
   "outputs": [],
   "source": [
    "data = torch.tensor(encode(text), dtype=torch.long)"
   ]
  },
  {
   "cell_type": "code",
   "execution_count": 9,
   "id": "bcf00767-acf1-45e4-93b7-82a7bb8db38b",
   "metadata": {},
   "outputs": [],
   "source": [
    "n = int(0.9*data.shape[0])\n",
    "train_data = data[:n]\n",
    "val_data = data[n:]"
   ]
  },
  {
   "cell_type": "code",
   "execution_count": 11,
   "id": "19ca0df8-9e54-4b4a-8f1c-92238663967a",
   "metadata": {},
   "outputs": [],
   "source": [
    "block_size = 8  #max contenxt length"
   ]
  },
  {
   "cell_type": "code",
   "execution_count": 12,
   "id": "0d524016-b05c-4ce8-87a5-b69868877b4f",
   "metadata": {},
   "outputs": [],
   "source": [
    "x = train_data[:block_size]\n",
    "y = train_data[1:block_size+1]"
   ]
  },
  {
   "cell_type": "code",
   "execution_count": 13,
   "id": "daf16b6c-e0db-4f59-9826-cad7ddc594f1",
   "metadata": {},
   "outputs": [
    {
     "name": "stdout",
     "output_type": "stream",
     "text": [
      "C: tensor([18]), T: 47\n",
      "C: tensor([18, 47]), T: 56\n",
      "C: tensor([18, 47, 56]), T: 57\n",
      "C: tensor([18, 47, 56, 57]), T: 58\n",
      "C: tensor([18, 47, 56, 57, 58]), T: 1\n",
      "C: tensor([18, 47, 56, 57, 58,  1]), T: 15\n",
      "C: tensor([18, 47, 56, 57, 58,  1, 15]), T: 47\n",
      "C: tensor([18, 47, 56, 57, 58,  1, 15, 47]), T: 58\n"
     ]
    }
   ],
   "source": [
    "for i in range(1, block_size+1):\n",
    "    content = train_data[:i]\n",
    "    target = train_data[i]\n",
    "    print(f\"C: {content}, T: {target}\")"
   ]
  },
  {
   "cell_type": "code",
   "execution_count": 14,
   "id": "e99d4fca-6c41-44de-8a2e-53522867b117",
   "metadata": {},
   "outputs": [],
   "source": [
    "torch.manual_seed(1337)\n",
    "\n",
    "batch_size = 4\n",
    "block_size = 8\n",
    "\n",
    "def get_batch(split):\n",
    "    data = train_data if \"train\" else val_data\n",
    "    ix = torch.randint(len(data) - block_size, (batch_size,))\n",
    "    x = torch.stack([data[i:i+block_size] for i in ix])\n",
    "    y = torch.stack([data[i+1:i+block_size+1] for i in ix])\n",
    "    return x,y\n",
    "\n",
    "xb, yb = get_batch(\"train\")"
   ]
  },
  {
   "cell_type": "code",
   "execution_count": 15,
   "id": "ffd1b0ab-aecb-4565-b3ab-713d15ed1cbc",
   "metadata": {},
   "outputs": [],
   "source": [
    "import torch\n",
    "import torch.nn as nn\n",
    "import torch.nn.functional as F\n",
    "torch.manual_seed(1337)\n",
    "\n",
    "class BigramLanguageModel(nn.Module):\n",
    "    def __init__(self, vocab_size):\n",
    "        super(BigramLanguageModel, self).__init__()\n",
    "        self.token_embedding_table = nn.Embedding(vocab_size, vocab_size)\n",
    "\n",
    "    def forward(self, idx, targets=None):\n",
    "        logits = self.token_embedding_table(idx) #(B, T, C)\n",
    "\n",
    "        if targets == None:\n",
    "            loss = None\n",
    "        else:\n",
    "            B, T, C = logits.shape\n",
    "            logits = logits.view(B*T, C) # [32, 65] -> token id distribution\n",
    "            targets = targets.view(B*T) # [32] -> token id\n",
    "            loss = F.cross_entropy(logits, targets)\n",
    "        return logits, loss\n",
    "\n",
    "    def generate(self, idx, max_new_tokens):\n",
    "        # idx is (B, T, C) array of indices of the current context\n",
    "        for _ in range(max_new_tokens):\n",
    "            logits, loss = self(idx) #run prediction\n",
    "            logits = logits[:, -1, :] #fetch last prediciton from the time dimension\n",
    "            probs = F.softmax(logits, dim=-1) #(B, C), (B, probabilities)\n",
    "            idx_next = torch.multinomial(probs, num_samples=1) #(B, 1), losowa probka\n",
    "            idx = torch.cat((idx, idx_next), dim=1)\n",
    "\n",
    "        return idx\n",
    "                \n",
    "                \n",
    "\n",
    "m = BigramLanguageModel(vocab_size)\n",
    "# logits, loss = m(xb, yb)\n",
    "# max_new_tokens = 100\n",
    "# decode(m.generate(torch.zeros([1,1], dtype=torch.long), max_new_tokens)[0].tolist())"
   ]
  },
  {
   "cell_type": "code",
   "execution_count": 16,
   "id": "940d04b2-a9a6-4e1c-95f7-b86be1cc5ef6",
   "metadata": {},
   "outputs": [],
   "source": [
    "optimizer = torch.optim.AdamW(m.parameters(), lr=1e-3)"
   ]
  },
  {
   "cell_type": "code",
   "execution_count": 17,
   "id": "191e0ae4-ac3f-4707-b30d-ce45e406e5a1",
   "metadata": {},
   "outputs": [
    {
     "name": "stdout",
     "output_type": "stream",
     "text": [
      "2.394822597503662\n"
     ]
    }
   ],
   "source": [
    "batch_size = 32\n",
    "\n",
    "for steps in range(10000):\n",
    "    xb, yb = get_batch(\"train\") # [4, 8], [4, 8]\n",
    "\n",
    "    logits, loss = m(xb, yb)\n",
    "    optimizer.zero_grad(set_to_none=True)\n",
    "    loss.backward()\n",
    "    optimizer.step()\n",
    "\n",
    "print(loss.item())"
   ]
  },
  {
   "cell_type": "code",
   "execution_count": 18,
   "id": "9e057cda-1d4b-4506-bcad-527a8ae5b04b",
   "metadata": {},
   "outputs": [
    {
     "data": {
      "text/plain": [
       "\"\\nKe sonidin y y a!\\nCaril.n y, denjxhece w illd CHAL, mer thoun s's:Conchuntilalllevise sthat dy hangilyoteng h hasbe pave pirance\\nRie hicomyonthar's\\nPlinseard ith henoure wounonthioneir thondy, y heltieiengerofo'dsssit ey\\nKIN d pe wither vouprrouthercc.\\nhathe; d!\\nMy hind tt hinig t ouchos tes; st yo hind wotte grotonear 'so it t jod weancotha:\\nh hay.JUCle n prids, r loncave w hollular s O:\\nHIs; ht \""
      ]
     },
     "execution_count": 18,
     "metadata": {},
     "output_type": "execute_result"
    }
   ],
   "source": [
    "decode(m.generate(torch.zeros([1,1], dtype=torch.long), 400)[0].tolist())"
   ]
  },
  {
   "cell_type": "markdown",
   "id": "b61c196a-9894-441a-95a3-d426f24cfabf",
   "metadata": {},
   "source": [
    "### Mathematical trick in self-attention"
   ]
  },
  {
   "cell_type": "code",
   "execution_count": 19,
   "id": "9a61ac7e-10bb-46b9-a583-645c6c39965b",
   "metadata": {},
   "outputs": [],
   "source": [
    "torch.manual_seed(1337)\n",
    "\n",
    "B, T, C = 4, 8, 2\n",
    "x = torch.randn(B, T, C)\n"
   ]
  },
  {
   "cell_type": "code",
   "execution_count": 20,
   "id": "61035cd8-b8e0-4f80-8f85-18ef5b7f6287",
   "metadata": {},
   "outputs": [],
   "source": [
    "xbow = torch.zeros([B,T, C])\n",
    "for b in range(B):\n",
    "    for t in range(T):\n",
    "        xprev = x[b, :t+1, :]\n",
    "        # print(xprev)\n",
    "        xbow[b,t] = torch.mean(xprev, dim=0)\n"
   ]
  },
  {
   "cell_type": "code",
   "execution_count": 21,
   "id": "33c06a0a-a5e0-492d-9fa2-ff5ec8b5e1bc",
   "metadata": {},
   "outputs": [],
   "source": [
    "\n",
    "wei = torch.tril(torch.ones([T,T], dtype=torch.long))\n",
    "wei = wei / torch.sum(wei, dim=1, keepdim=True)\n",
    "xbow2 = wei @ x"
   ]
  },
  {
   "cell_type": "code",
   "execution_count": 22,
   "id": "82d5a91e-2d31-46f6-99ce-d03a5cdcd883",
   "metadata": {},
   "outputs": [
    {
     "data": {
      "text/plain": [
       "tensor([[ 1.0706, -1.0264],\n",
       "        [ 2.8775,  1.3636],\n",
       "        [-1.3768, -0.5263],\n",
       "        [ 9.0855, -2.3279]])"
      ]
     },
     "execution_count": 22,
     "metadata": {},
     "output_type": "execute_result"
    }
   ],
   "source": [
    "torch.ones([T]) @ xbow"
   ]
  },
  {
   "cell_type": "code",
   "execution_count": 23,
   "id": "247fc7f5-c958-4d86-80a1-41cc92a5d1be",
   "metadata": {},
   "outputs": [
    {
     "data": {
      "text/plain": [
       "(torch.Size([8]), torch.Size([4, 8, 2]), torch.Size([4, 2]))"
      ]
     },
     "execution_count": 23,
     "metadata": {},
     "output_type": "execute_result"
    }
   ],
   "source": [
    "z = torch.ones([T]) @ xbow\n",
    "torch.ones([T]).shape, xbow.shape, z.shape"
   ]
  },
  {
   "cell_type": "code",
   "execution_count": 24,
   "id": "a5143d1a-8a62-4595-a570-ae0c059555b8",
   "metadata": {},
   "outputs": [
    {
     "data": {
      "text/plain": [
       "(tensor([[8., 6.],\n",
       "         [5., 2.],\n",
       "         [4., 4.]]),\n",
       " tensor([[1.0000, 0.0000, 0.0000],\n",
       "         [0.5000, 0.5000, 0.0000],\n",
       "         [0.3333, 0.3333, 0.3333]]))"
      ]
     },
     "execution_count": 24,
     "metadata": {},
     "output_type": "execute_result"
    }
   ],
   "source": [
    "a = torch.tril(torch.ones([3,3], dtype=torch.long))\n",
    "a = a / torch.sum(a, dim=1, keepdim=True)\n",
    "b = torch.randint(0,10,(3,2), dtype=torch.float)\n",
    "b, a"
   ]
  },
  {
   "cell_type": "code",
   "execution_count": 164,
   "id": "c39cf290-b3c1-462b-8d17-f7bfc6a856d0",
   "metadata": {},
   "outputs": [
    {
     "data": {
      "text/plain": [
       "torch.Size([4, 8, 2])"
      ]
     },
     "execution_count": 164,
     "metadata": {},
     "output_type": "execute_result"
    }
   ],
   "source": [
    "tril = torch.tril(torch.ones(T,T))\n",
    "wei = torch.zeros((T,T))\n",
    "wei = wei.masked_fill(tril == 0, float(\"-inf\"))\n",
    "wei = F.softmax(wei, dim=-1)\n",
    "out = wei @ x\n",
    "out.shape"
   ]
  },
  {
   "cell_type": "markdown",
   "id": "cb3eff24-041a-4356-8795-aad93a48d63a",
   "metadata": {},
   "source": [
    "### Self-attention"
   ]
  },
  {
   "cell_type": "code",
   "execution_count": 185,
   "id": "92d044d8-65af-4aed-9021-fd10e9959a3d",
   "metadata": {},
   "outputs": [
    {
     "data": {
      "text/plain": [
       "torch.Size([4, 8, 32])"
      ]
     },
     "execution_count": 185,
     "metadata": {},
     "output_type": "execute_result"
    }
   ],
   "source": [
    "torch.manual_seed(1337)\n",
    "\n",
    "B, T, C = 4, 8, 32\n",
    "x = torch.randn(B, T, C)\n",
    "\n",
    "# single head self-attention\n",
    "head_size = 16\n",
    "key = nn.Linear(C, head_size, bias=False) # (B, T, 16)\n",
    "query = nn.Linear(C, head_size, bias=False) # (B, T, 16)\n",
    "value = nn.Linear(C, head_size, bias=False) # (B, T, 16)\n",
    "k =  key(x)\n",
    "q = query(x)\n",
    "wei = q @ k.transpose(-2, -1) # (B, T, 16) @ (B, 16, T) --> (B, T, T)\n",
    "\n",
    "tril = torch.tril(torch.ones(T,T))\n",
    "# wei = torch.zeros((T,T))\n",
    "wei = wei.masked_fill(tril == 0, float(\"-inf\"))\n",
    "wei = F.softmax(wei, dim=-1)\n",
    "\n",
    "v = value(x)\n",
    "out = wei @ x\n",
    "\n",
    "out.shape"
   ]
  },
  {
   "cell_type": "code",
   "execution_count": 186,
   "id": "ae529972-1388-4950-8bfe-f12d3d9c6c5b",
   "metadata": {},
   "outputs": [
    {
     "data": {
      "text/plain": [
       "torch.Size([16, 32])"
      ]
     },
     "execution_count": 186,
     "metadata": {},
     "output_type": "execute_result"
    }
   ],
   "source": [
    "key.weight.shape"
   ]
  },
  {
   "cell_type": "code",
   "execution_count": 178,
   "id": "8ab3bb4a-ee5b-4ecd-abe6-d32826190e57",
   "metadata": {},
   "outputs": [
    {
     "data": {
      "text/plain": [
       "tensor([[1.0000, 0.0000, 0.0000, 0.0000, 0.0000, 0.0000, 0.0000, 0.0000],\n",
       "        [0.1574, 0.8426, 0.0000, 0.0000, 0.0000, 0.0000, 0.0000, 0.0000],\n",
       "        [0.2088, 0.1646, 0.6266, 0.0000, 0.0000, 0.0000, 0.0000, 0.0000],\n",
       "        [0.5792, 0.1187, 0.1889, 0.1131, 0.0000, 0.0000, 0.0000, 0.0000],\n",
       "        [0.0294, 0.1052, 0.0469, 0.0276, 0.7909, 0.0000, 0.0000, 0.0000],\n",
       "        [0.0176, 0.2689, 0.0215, 0.0089, 0.6812, 0.0019, 0.0000, 0.0000],\n",
       "        [0.1691, 0.4066, 0.0438, 0.0416, 0.1048, 0.2012, 0.0329, 0.0000],\n",
       "        [0.0210, 0.0843, 0.0555, 0.2297, 0.0573, 0.0709, 0.2423, 0.2391]],\n",
       "       grad_fn=<SelectBackward0>)"
      ]
     },
     "execution_count": 178,
     "metadata": {},
     "output_type": "execute_result"
    }
   ],
   "source": [
    "wei[0]"
   ]
  },
  {
   "cell_type": "code",
   "execution_count": null,
   "id": "7784f0b4-dd89-45ac-a4d4-b0dd7472f726",
   "metadata": {},
   "outputs": [],
   "source": []
  },
  {
   "cell_type": "code",
   "execution_count": null,
   "id": "1588a6bc-0793-427f-a6d2-76cd87d4e23e",
   "metadata": {},
   "outputs": [],
   "source": []
  }
 ],
 "metadata": {
  "kernelspec": {
   "display_name": "Python 3 (ipykernel)",
   "language": "python",
   "name": "python3"
  },
  "language_info": {
   "codemirror_mode": {
    "name": "ipython",
    "version": 3
   },
   "file_extension": ".py",
   "mimetype": "text/x-python",
   "name": "python",
   "nbconvert_exporter": "python",
   "pygments_lexer": "ipython3",
   "version": "3.10.16"
  }
 },
 "nbformat": 4,
 "nbformat_minor": 5
}
