{
 "cells": [
  {
   "cell_type": "code",
   "execution_count": 5,
   "id": "6eb0977a-4c48-4da3-9655-e8d02fe7c392",
   "metadata": {},
   "outputs": [],
   "source": [
    "import torch\n",
    "\n",
    "import torch.nn.functional as F"
   ]
  },
  {
   "cell_type": "code",
   "execution_count": 6,
   "id": "27d03845-c33a-42f0-9b56-6f6b09999c93",
   "metadata": {},
   "outputs": [],
   "source": [
    "l = torch.tensor([[0.2640, 0.2640, 0.4719],\n",
    "        [0.3422, 0.3422, 0.3156]])\n",
    "\n",
    "def custom_softmax(x, dim=0):\n",
    "    i_dim = (dim + 1) % len(l.shape)\n",
    "    i_range = x.shape[i_dim]\n",
    "\n",
    "    t = torch.zeros(x.shape)\n",
    "    for idx in range(i_range):\n",
    "        exp_values = torch.exp(x.select(i_dim, idx))\n",
    "        exp_sum = exp_values.sum()\n",
    "        \n",
    "        soft_vec = exp_values/exp_sum\n",
    "        # print(i_dim, torch.tensor([idx]), soft_vec.unsqueeze(i_dim))\n",
    "        t.index_add_(i_dim, torch.tensor([idx]), soft_vec.unsqueeze(i_dim))\n",
    "    return t\n",
    "\n",
    "def simplified_softmax(x, dim=0):\n",
    "    exp_x = torch.exp(x)\n",
    "\n",
    "    # Sum along the specified dimension, keeping dimensions for proper broadcasting\n",
    "    sum_exp = exp_x.sum(dim=dim, keepdim=True)\n",
    "    \n",
    "    # Divide to get softmax probabilities\n",
    "    return exp_x / sum_exp\n",
    "\n",
    "def c_softmax(x, dim=-1):\n",
    "    \"\"\"\n",
    "    Custom implementation of softmax using basic PyTorch operations.\n",
    "    \n",
    "    Args:\n",
    "        x (torch.Tensor): Input tensor\n",
    "        dim (int): Dimension along which softmax will be computed\n",
    "        \n",
    "    Returns:\n",
    "        torch.Tensor: Softmax output\n",
    "    \"\"\"\n",
    "    # Numerical stability: subtract the max value before exponentiating\n",
    "    x_max, _ = torch.max(x, dim=dim, keepdim=True)\n",
    "    x_exp = torch.exp(x - x_max)\n",
    "    \n",
    "    # Normalize by the sum\n",
    "    x_exp_sum = torch.sum(x_exp, dim=dim, keepdim=True)\n",
    "    return x_exp / x_exp_sum"
   ]
  },
  {
   "cell_type": "code",
   "execution_count": 7,
   "id": "c8a00969-c24d-458e-91fd-895262cd4765",
   "metadata": {},
   "outputs": [
    {
     "data": {
      "text/plain": [
       "(tensor([[0.3095, 0.3095, 0.3810],\n",
       "         [0.3363, 0.3363, 0.3274]]),\n",
       " tensor([[0.3095, 0.3095, 0.3810],\n",
       "         [0.3363, 0.3363, 0.3274]]),\n",
       " tensor([[0.3095, 0.3095, 0.3810],\n",
       "         [0.3363, 0.3363, 0.3274]]),\n",
       " tensor([[0.3095, 0.3095, 0.3810],\n",
       "         [0.3363, 0.3363, 0.3274]]))"
      ]
     },
     "execution_count": 7,
     "metadata": {},
     "output_type": "execute_result"
    }
   ],
   "source": [
    "dim = 1\n",
    "custom_softmax(l, dim=dim), F.softmax(l, dim=dim), c_softmax(l, dim=dim), simplified_softmax(l, dim=dim)"
   ]
  },
  {
   "cell_type": "code",
   "execution_count": 159,
   "id": "c203d16a-bece-4000-bb1b-f3726c262bbd",
   "metadata": {},
   "outputs": [
    {
     "data": {
      "text/plain": [
       "tensor([[0.3095, 0.3095, 0.3810],\n",
       "        [0.3363, 0.3363, 0.3274]])"
      ]
     },
     "execution_count": 159,
     "metadata": {},
     "output_type": "execute_result"
    }
   ],
   "source": []
  },
  {
   "cell_type": "code",
   "execution_count": 10,
   "id": "23a51ea8-a2cf-4d6c-9af9-9cdd0fc150bf",
   "metadata": {},
   "outputs": [],
   "source": []
  },
  {
   "cell_type": "code",
   "execution_count": 49,
   "id": "76066996-f0eb-4caa-a266-3ac111de2700",
   "metadata": {},
   "outputs": [
    {
     "data": {
      "text/plain": [
       "tensor([[0.3095, 0.3095, 0.3810],\n",
       "        [0.3363, 0.3363, 0.3274]])"
      ]
     },
     "execution_count": 49,
     "metadata": {},
     "output_type": "execute_result"
    }
   ],
   "source": [
    "n = torch.tensor([[1, 2], [3, 4]])\n",
    "\n",
    "exp_x = torch.exp(l)\n",
    "\n",
    "exp_x/exp_x.sum(dim=1, keepdim=True)"
   ]
  },
  {
   "cell_type": "code",
   "execution_count": 51,
   "id": "b2a648b9-4c28-48d2-b4b5-705baec10f90",
   "metadata": {},
   "outputs": [
    {
     "data": {
      "text/plain": [
       "torch.Size([1, 3])"
      ]
     },
     "execution_count": 51,
     "metadata": {},
     "output_type": "execute_result"
    }
   ],
   "source": [
    "exp_x.sum(dim=0, keepdim=True).shape"
   ]
  },
  {
   "cell_type": "code",
   "execution_count": 155,
   "id": "5175ccf5-c978-438e-8b2b-fb839c9849d6",
   "metadata": {},
   "outputs": [],
   "source": []
  },
  {
   "cell_type": "code",
   "execution_count": null,
   "id": "1db71709-c3be-4b63-bc1d-a5c64fad5d6a",
   "metadata": {},
   "outputs": [],
   "source": []
  }
 ],
 "metadata": {
  "kernelspec": {
   "display_name": "Python 3 (ipykernel)",
   "language": "python",
   "name": "python3"
  },
  "language_info": {
   "codemirror_mode": {
    "name": "ipython",
    "version": 3
   },
   "file_extension": ".py",
   "mimetype": "text/x-python",
   "name": "python",
   "nbconvert_exporter": "python",
   "pygments_lexer": "ipython3",
   "version": "3.10.16"
  }
 },
 "nbformat": 4,
 "nbformat_minor": 5
}
